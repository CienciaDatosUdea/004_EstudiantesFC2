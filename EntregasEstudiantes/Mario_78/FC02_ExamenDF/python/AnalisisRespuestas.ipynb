{
 "cells": [
  {
   "cell_type": "markdown",
   "id": "6c935c5a",
   "metadata": {},
   "source": [
    "\n",
    "\n",
    "## 1.1 Condición de Estabilidad de Courant en FDTD\n",
    "\n",
    "La **condición de estabilidad de Courant** establece una relación entre el paso espacial (Δz) y el paso temporal (Δt) en los métodos de diferencias finitas en el dominio del tiempo (FDTD).  \n",
    "\n",
    "## Explicación\n",
    "\n",
    "- En una simulación FDTD, la onda electromagnética debe propagarse de manera estable a través de la malla numérica.  \n",
    "- Para que esto ocurra, el avance temporal Δt debe ser lo suficientemente pequeño en comparación con el paso espacial Δz y la velocidad de propagación de la onda en el medio.  \n",
    "\n",
    "La condición de Courant en 1D se expresa como:\n",
    "\n",
    "$$\n",
    "\\beta = c \\, \\frac{\\Delta t}{\\Delta z} \\leq  \\frac{1}{2}\n",
    "$$\n",
    "\n",
    "donde:\n",
    "- $c$ es la velocidad de la luz normalizada $c = 1$),\n",
    "- $\\Delta z$ es el tamaño de celda espacial,\n",
    "- $\\Delta t$ es el paso de tiempo.\n",
    "\n",
    "## Implicaciones\n",
    "\n",
    "1. **Elección de Δz**  \n",
    "   - Un paso espacial muy grande $\\Delta z$ produce baja resolución espacial, lo que puede introducir errores en la representación de la onda.  \n",
    "   - Un paso demasiado pequeño aumenta el costo computacional porque se requieren más celdas.\n",
    "\n",
    "2. **Elección de Δt**  \n",
    "   - Una vez elegido $\\Delta z$, el paso de tiempo $\\Delta t$ está limitado por la condición de Courant.  \n",
    "   - Si $\\Delta t$ es demasiado grande, la simulación se vuelve inestable (los campos crecen sin control).  \n",
    "   - Si $\\Delta t$ es muy pequeño, la simulación es estable pero requiere mayor tiempo de cómputo.\n",
    "\n",
    "## Conclusión\n",
    "\n",
    "La condición de estabilidad de Courant garantiza que la simulación numérica represente de forma física la propagación de ondas. La elección de $\\Delta z$ define la resolución espacial, mientras que $\\Delta t$ debe ajustarse de acuerdo con $\\Delta z$ para mantener la estabilidad.\n"
   ]
  },
  {
   "cell_type": "code",
   "execution_count": null,
   "id": "58990713",
   "metadata": {},
   "outputs": [],
   "source": [
    "import numpy as np\n",
    "import matplotlib.pyplot as plt\n",
    "\n",
    "# Parámetros de la malla\n",
    "Nz = 200           # número de puntos espaciales\n",
    "dz = 1.0           # paso espacial\n",
    "z = np.arange(0, Nz*dz, dz)\n",
    "\n",
    "Ex0 = 0.1*np.sin((2*np.pi*z)/100)  # campo eléctrico inicial\n",
    "Hy0 = 0.1*np.sin((2*np.pi*z)/100)  # campo magnético inicial\n",
    "\n",
    "# === Graficar condiciones iniciales ===\n",
    "plt.figure(figsize=(8,4))\n",
    "plt.plot(z, Ex0, label=\"Campo eléctrico Ex (t=0)\", color=\"blue\")\n",
    "plt.plot(z, Hy0, label=\"Campo magnético Hy (t=0)\", color=\"red\", linestyle=\"--\")\n",
    "plt.xlabel(\"Posición (z)\")\n",
    "plt.ylabel(\"Amplitud\")\n",
    "plt.title(\"Condiciones iniciales del campo electromagnético (t = 0)\")\n",
    "plt.legend()\n",
    "plt.grid(True)\n",
    "plt.show()\n"
   ]
  },
  {
   "cell_type": "markdown",
   "id": "04060231",
   "metadata": {},
   "source": [
    "Con $\\Delta t  = 0.5, c = 1, \\Delta z = 1$; entonces    $\\beta = 0.5  \\leq  \\frac{1}{2} $ (cumple la condición)"
   ]
  },
  {
   "cell_type": "code",
   "execution_count": null,
   "id": "99e8743f",
   "metadata": {},
   "outputs": [],
   "source": [
    "from IPython.display import Image, display\n",
    "\n",
    "display(Image(filename=\"onda1.gif\"))\n",
    "display(Image(filename=\"onda_emt1.gif\"))\n"
   ]
  },
  {
   "cell_type": "markdown",
   "id": "a5ae03ae",
   "metadata": {},
   "source": [
    "Como podemos observar al comparar las condiciones iniciales de los campos magnético y eléctrico con las gráficas generadas en la simulación de la evolución temporal, podemos observar que los perfiles de los ca,pos se mantienen y que ambos conservan la misma fase y la amplitud. Por lo tanto, se puede decir que la simulación es buena."
   ]
  },
  {
   "cell_type": "markdown",
   "id": "4cd64cd7",
   "metadata": {},
   "source": [
    "## 1.2 Estudio de condiciones de frontera y estabilidad numérica\n",
    "\n",
    "### a) Campos anulándose en el borde, es decir (E = H = 0 en z = 0 y z = 200)"
   ]
  },
  {
   "cell_type": "markdown",
   "id": "28ae4850",
   "metadata": {},
   "source": [
    "Para hacer esto cambiamos modificamos el código de nuestro archivo fdtd.cpp del proyecto,  código en **C++** que implementa condiciones de frontera CF:\n",
    "\n",
    "```cpp\n",
    "\n",
    "#include \"fdtd.h\"\n",
    "#include <cmath>\n",
    "#include <fstream>\n",
    "#include <iomanip>\n",
    "\n",
    "// =====================\n",
    "// Constantes globales\n",
    "// =====================\n",
    "constexpr double PI = 3.14159265358979323846;\n",
    "\n",
    "// =====================\n",
    "// Constructor\n",
    "// =====================\n",
    "Campos::Campos(int xmax_, double c_, double dz_, double lambda_, int decim_)\n",
    "    : xmax(xmax_), c(c_), dz(dz_), lambda(lambda_), decim(decim_) \n",
    "{\n",
    "    dt = 0.5;  // dt = 0.5 * dz / c;\n",
    "    beta = c * dt / dz;\n",
    "    T = lambda / c;\n",
    "    nsteps = static_cast<int>(20 * T / dt);     // Aquí aumentamos el tiempo de simulación\n",
    "\n",
    "    Ex.assign(xmax, std::vector<double>(2, 0.0));\n",
    "    Hy.assign(xmax, std::vector<double>(2, 0.0));\n",
    "}\n",
    "\n",
    "// =====================\n",
    "// Inicialización\n",
    "// =====================\n",
    "void Campos::inicializar() {\n",
    "    for (int k = 0; k < xmax; ++k) {\n",
    "        double z = k * dz;\n",
    "        double ini = 0.1 * sin(2.0 * PI * z / lambda);\n",
    "        Ex[k][0] = ini;\n",
    "        Hy[k][0] = ini;\n",
    "    }\n",
    "}\n",
    "\n",
    "// =====================\n",
    "// Simulación\n",
    "// =====================\n",
    "void Campos::simular(const std::string &filename) {\n",
    "    std::ofstream f(filename);\n",
    "    f << \"# t\\tk\\tEx\\tHy\\n\";\n",
    "    f << std::fixed << std::setprecision(6);\n",
    "\n",
    "    for (int n = 0; n < nsteps; ++n) {\n",
    "        // --- Actualización de Hy ---\n",
    "        for (int k = 0; k < xmax - 1; ++k) {\n",
    "            Hy[k][1] = Hy[k][0] + beta * (Ex[k + 1][0] - Ex[k][0]);\n",
    "        }\n",
    "        // Frontera derecha \n",
    "        Hy[xmax - 1][1] = 0.0;\n",
    "\n",
    "        // --- Actualización de Ex ---\n",
    "        for (int k = 1; k < xmax; ++k) {\n",
    "            Ex[k][1] = Ex[k][0] + beta * (Hy[k][1] - Hy[k - 1][1]);\n",
    "        }\n",
    "        // Frontera izquierda \n",
    "        Ex[0][1] = 0.0;\n",
    "\n",
    "        // --- Avance temporal ---\n",
    "        for (int k = 0; k < xmax; ++k) {\n",
    "            Ex[k][0] = Ex[k][1];\n",
    "            Hy[k][0] = Hy[k][1];\n",
    "        }\n",
    "\n",
    "        // --- Salida ---\n",
    "        if (n % decim == 0) {\n",
    "            double t = n * dt;\n",
    "            for (int k = 0; k < xmax; ++k) {\n",
    "                f << t << '\\t' << k << '\\t' << Ex[k][0] << '\\t' << Hy[k][0] << '\\n';\n",
    "            }\n",
    "        }\n",
    "    }\n",
    "\n",
    "    f.close();\n",
    "}\n",
    "\n"
   ]
  },
  {
   "cell_type": "markdown",
   "id": "2f0c77e4",
   "metadata": {},
   "source": [
    "Con $\\Delta t  = 0.5, c = 1, \\Delta z = 1$; entonces    $\\beta = 0.5  \\leq  \\frac{1}{2} $ (cumple la condición)"
   ]
  },
  {
   "cell_type": "code",
   "execution_count": null,
   "id": "e8a0a3ef",
   "metadata": {},
   "outputs": [],
   "source": [
    "from IPython.display import Image, display\n",
    "\n",
    "display(Image(filename=\"ondaCF.gif\"))       # Carga el archivo .gif con las condiciones de frontera\n",
    "display(Image(filename=\"onda_emtCF.gif\"))"
   ]
  },
  {
   "cell_type": "markdown",
   "id": "0e43e0e0",
   "metadata": {},
   "source": [
    "Comparando  las graficas anteriores, con las del las condiciones de frontera períódicas, se observa que:\n",
    "\n",
    "* Con condiciones periódicas: la onda “reaparece” en el otro extremo y siempre sonserva su perfil\n",
    "\n",
    "* Con las condiciones de frontera en cero (𝐸 = 𝐻 = 0 en los bordes) :\n",
    "  - la onda se refleja completamente ⇒ aparecen ondas reflejadas y luego interferencias. En los extremos la onda desaparece.\n",
    "  - Los pulsos se reflejan totalmente al llegar a las paredes (condiciones de conductor perfecto, PEC).\n",
    "  - Esto genera ondas reflejadas que interfieren con la onda incidente, creando patrones estacionarios si dejas correr mucho tiempo."
   ]
  },
  {
   "cell_type": "markdown",
   "id": "5f89d36f",
   "metadata": {},
   "source": [
    "### b) Análisis de estabilidad\n",
    "\n",
    "#### **I. Variando $\\Delta t$ y los demás parámetros fijos**\n",
    "\n",
    "* Con $\\Delta t  = 0.5, c = 1, \\Delta z = 1$; entonces    $\\beta = 0.5  \\leq  \\frac{1}{2} $ (cumple la condición)"
   ]
  },
  {
   "cell_type": "code",
   "execution_count": null,
   "id": "badc33aa",
   "metadata": {},
   "outputs": [],
   "source": [
    "from IPython.display import Image, display\n",
    "\n",
    "display(Image(filename=\"onda1.gif\"))\n",
    "display(Image(filename=\"onda_emt1.gif\"))\n"
   ]
  },
  {
   "cell_type": "markdown",
   "id": "74ce36bd",
   "metadata": {},
   "source": [
    "* Con $\\Delta t  = 0.1, c = 1, \\Delta z = 1$; entonces    $\\beta = 0.1  \\leq  \\frac{1}{2} $ (cumple la condición)"
   ]
  },
  {
   "cell_type": "code",
   "execution_count": null,
   "id": "d48326dd",
   "metadata": {},
   "outputs": [],
   "source": [
    "from IPython.display import Image, display\n",
    "\n",
    "display(Image(filename=\"onda2.gif\"))\n",
    "display(Image(filename=\"onda_emt2.gif\"))\n"
   ]
  },
  {
   "cell_type": "markdown",
   "id": "fd99adc6",
   "metadata": {},
   "source": [
    "* Con $\\Delta t  = 2.0, c = 1, \\Delta z = 1$; entonces    $\\beta = 2.0  >  \\frac{1}{2} $ (No cumple la condición de Courant )"
   ]
  },
  {
   "cell_type": "code",
   "execution_count": null,
   "id": "01b68edd",
   "metadata": {},
   "outputs": [],
   "source": [
    "from IPython.display import Image, display\n",
    "\n",
    "display(Image(filename=\"onda3.gif\"))\n",
    "display(Image(filename=\"onda_emt3.gif\"))\n"
   ]
  },
  {
   "cell_type": "markdown",
   "id": "26a004fc",
   "metadata": {},
   "source": [
    "## **Conclusión**\n",
    "Como se puede observar en las gráficas anteriores al disminuir $\\Delta t$  la simulación es estable pero requiere mayor tiempo de cómputo, es decir, la simulación es más lenta.\n",
    "\n",
    "Cuando $\\Delta t$ es demasiado grande, no se cumple la condición de Courant  y los valores de los campos se disparan al infinito lo que genera que la simulación se vuelva inestable y los campos crecen sin control.  \n",
    "\n",
    "\n"
   ]
  }
 ],
 "metadata": {
  "kernelspec": {
   "display_name": "Python 3",
   "language": "python",
   "name": "python3"
  },
  "language_info": {
   "codemirror_mode": {
    "name": "ipython",
    "version": 3
   },
   "file_extension": ".py",
   "mimetype": "text/x-python",
   "name": "python",
   "nbconvert_exporter": "python",
   "pygments_lexer": "ipython3",
   "version": "3.12.6"
  }
 },
 "nbformat": 4,
 "nbformat_minor": 5
}
