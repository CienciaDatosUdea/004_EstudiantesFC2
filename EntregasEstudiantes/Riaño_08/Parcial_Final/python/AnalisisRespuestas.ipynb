{
 "cells": [
  {
   "cell_type": "markdown",
   "id": "3e58f251",
   "metadata": {},
   "source": [
    "# Segundo Examen Parcial de Física Computacional 2\n",
    "\n",
    "**Estudiante:** Andrés Felipe Riaño Quintanilla.\n",
    "\n",
    "**Documento:** 1083928808."
   ]
  },
  {
   "cell_type": "code",
   "execution_count": 1,
   "id": "bfdb5b14",
   "metadata": {},
   "outputs": [],
   "source": [
    "import sys\n",
    "import os\n",
    "import numpy as np\n",
    "import matplotlib.pyplot as plt\n",
    "from ipywidgets import interactive, IntSlider, Dropdown\n",
    "from IPython.display import display"
   ]
  },
  {
   "cell_type": "markdown",
   "id": "fb9bb540",
   "metadata": {},
   "source": [
    "### 1.1 Simulación de propagación de onda sinusoidal con FDTD"
   ]
  },
  {
   "cell_type": "code",
   "execution_count": 2,
   "id": "180a5eea",
   "metadata": {},
   "outputs": [
    {
     "name": "stdout",
     "output_type": "stream",
     "text": [
      "Datos de simulación periódica cargados exitosamente.\n"
     ]
    },
    {
     "data": {
      "application/vnd.jupyter.widget-view+json": {
       "model_id": "d8d27b7fcaf8402fbdd1ff3bf54c212f",
       "version_major": 2,
       "version_minor": 0
      },
      "text/plain": [
       "interactive(children=(IntSlider(value=0, description='Tiempo (t)', max=1000), Output()), _dom_classes=('widget…"
      ]
     },
     "metadata": {},
     "output_type": "display_data"
    }
   ],
   "source": [
    "# Agrega la ruta del directorio principal para poder importar sim_fdtd\n",
    "sys.path.append(os.path.abspath('..'))\n",
    "\n",
    "from sim_fdtd import load_data, plot_fields, create_interactive_plot\n",
    "\n",
    "# Cargar los datos de la simulación periódica\n",
    "E_periodic_data = load_data('data_E_periodic_stable.txt')\n",
    "H_periodic_data = load_data('data_H_periodic_stable.txt')\n",
    "\n",
    "if E_periodic_data is None or H_periodic_data is None:\n",
    "    print(\"No se pudieron cargar los datos de la simulación periódica. Asegúrate de que los archivos existan.\")\n",
    "else:\n",
    "    print(\"Datos de simulación periódica cargados exitosamente.\")\n",
    "    max_time_step = len(E_periodic_data) - 1 # Esto tomará el valor 1000\n",
    "    create_interactive_plot(E_periodic_data, H_periodic_data, max_time_step)"
   ]
  },
  {
   "cell_type": "markdown",
   "id": "ddf6a6bb",
   "metadata": {},
   "source": [
    "Comparando el comportamiento del campo electromagnético para un tiempo $t$ con respecto a las condiciones iniciales en $t=0$, se observa que la onda se propaga de izquierda a derecha. En este caso trabajamos con un valor $\\beta = 0.45$, lo que quiere decir que si queremos mantener la condición de Counrat $\\beta = \\frac{c \\Delta t}{\\Delta z} \\leq  \\frac{1}{2}$, cada vez que incrementemos $\\Delta t$, es necesario incrementar $\\Delta z$ en la misma proporción con el objetivo de mantener el valor de $\\beta$. Análogamente, si disminuimos $\\Delta z$, necesitamos disminuir $\\Delta t$ para mantener la proporción."
   ]
  },
  {
   "cell_type": "markdown",
   "id": "c72f7fe6",
   "metadata": {},
   "source": [
    "### 1.2 Estudio de condiciones de frontera y estabilidad numérica"
   ]
  },
  {
   "cell_type": "code",
   "execution_count": 3,
   "id": "e623a769",
   "metadata": {},
   "outputs": [
    {
     "name": "stdout",
     "output_type": "stream",
     "text": [
      "Datos de simulación fija cargados exitosamente.\n"
     ]
    },
    {
     "data": {
      "application/vnd.jupyter.widget-view+json": {
       "model_id": "a3afa26abda54357bfda46e9169ceed2",
       "version_major": 2,
       "version_minor": 0
      },
      "text/plain": [
       "interactive(children=(IntSlider(value=0, description='Tiempo (t)', max=1000), Output()), _dom_classes=('widget…"
      ]
     },
     "metadata": {},
     "output_type": "display_data"
    }
   ],
   "source": [
    "# Agrega la ruta del directorio principal para poder importar sim_fdtd\n",
    "sys.path.append(os.path.abspath('..'))\n",
    "\n",
    "from sim_fdtd import load_data, plot_fields, create_interactive_plot\n",
    "\n",
    "# Cargar los datos de la simulación fija\n",
    "E_fixed_data = load_data('data_E_fixed_stable.txt')\n",
    "H_fixed_data = load_data('data_H_fixed_stable.txt')\n",
    "\n",
    "if E_fixed_data is None or H_fixed_data is None:\n",
    "    print(\"No se pudieron cargar los datos de la simulación fija. Asegúrate de que los archivos existan.\")\n",
    "else:\n",
    "    print(\"Datos de simulación fija cargados exitosamente.\")\n",
    "    max_time_step = len(E_fixed_data) - 1 # Esto tomará el valor 1000\n",
    "    create_interactive_plot(E_fixed_data, H_fixed_data, max_time_step)"
   ]
  },
  {
   "cell_type": "markdown",
   "id": "30996147",
   "metadata": {},
   "source": [
    "Comparando esta simulación con el caso anterior en el que los extremos son libres (onda viajera), se puede ver que antes de que los pulsos lleguen al extremo derecho, el comportamiento de la onda es muy similar al caso anterior; sin embargo, una vez la onda alcanza el extremo, se empieza a reflejar, y la onda incidente se mezcla con la onda reflejada por intereferencia. A partir de ese momento, la forma de la onda no se mantiene uniforme a lo largo de toda la simulación y las direcciones de propagación van oscilando de un lugar a otro. En unos casos la onda se propaga de izquierda a derecha y luego de derecha a izquierda."
   ]
  },
  {
   "cell_type": "code",
   "execution_count": null,
   "id": "6d4e0a11",
   "metadata": {},
   "outputs": [
    {
     "name": "stdout",
     "output_type": "stream",
     "text": [
      "Generando el explorador de beta...\n"
     ]
    },
    {
     "data": {
      "application/vnd.jupyter.widget-view+json": {
       "model_id": "6c88c6625af24faaacc0be2509596894",
       "version_major": 2,
       "version_minor": 0
      },
      "text/plain": [
       "interactive(children=(Dropdown(description='Δz:', options=(0.01, 0.02, 0.03), value=0.01), Dropdown(descriptio…"
      ]
     },
     "metadata": {},
     "output_type": "display_data"
    }
   ],
   "source": [
    "# Agrega la ruta del directorio principal para poder importar\n",
    "sys.path.append(os.path.abspath('..'))\n",
    "\n",
    "from sim_fdtd import create_beta_explorer_widget\n",
    "\n",
    "print(\"Generando el explorador de beta...\")\n",
    "create_beta_explorer_widget()"
   ]
  },
  {
   "cell_type": "markdown",
   "id": "d47e5a4d",
   "metadata": {},
   "source": [
    "Los resultados de las simulaciones confirman que el comportamiento del modelo depende críticamente del valor de $\\beta$ con respecto a la condición de Courant $\\beta \\leq \\frac{1}{2}$. Los siguientes resultados fueron obtenidos para $c=1$, es decir, en unidades naturales:\n",
    "\n",
    "* $\\beta = 0.50$, $\\left( \\Delta z =0.02, \\Delta t = 0.01 \\right)$: El modelo es estable y con dispersión mínima. La onda mantiene su forma y se propaga correctamente. Este es el caso óptimo.\n",
    "\n",
    "* $\\beta = 0.40$, $\\left( \\Delta z =0.01, \\Delta t = 0.004 \\right)$: La condición se cumple y el modelo es estable. Sin embargo, se observa una pequeña cantidad de dispersión numérica que causa distorsión en los extremos de la onda.\n",
    "\n",
    "* $\\beta = 0.33$, $\\left( \\Delta z =0.03, \\Delta t = 0.01 \\right)$:  La condición se cumple y el modelo es estable. En comparación con $\\beta = 0.5$, la distorsión de la forma de la onda es más notable, lo que demuestra que a medida que $\\beta$ se aleja del valor óptimo de 0.5, la dispersión numérica aumenta.\n",
    "\n",
    "Las simulaciones con $\\beta \\gt \\frac{1}{2}$ revelan distintos tipos de fallos en el modelo:\n",
    "\n",
    "* $\\beta = 0.67$, $\\left( \\Delta z =0.03, \\Delta t = 0.02 \\right)$: El modelo es estable, pero la onda sufre una dispersión numérica extrema. La forma de la onda está muy distorsionada y no representa una propagación física precisa.\n",
    "\n",
    "* $\\beta = 1.00$, $\\left( \\Delta z =0.01, \\Delta t = 0.01 \\right)$:  A pesar de que la onda fue inicializada, el resultado final es un campo completamente plano con amplitud cero. Esto indica una completa falla de la propagación de la onda. La energía de la onda se disipa o cancela por completo a medida que la simulación avanza.\n",
    "\n",
    "* $\\beta = 2.00$, $\\left( \\Delta z =0.01, \\Delta t = 0.02 \\right)$:  Este es el caso de una inestabilidad numérica total. La amplitud de la onda crece de forma exponencial hasta valores tan grandes que la simulación \"explota\", resultando en un gráfico vacío. Los datos se desbordan y el modelo no puede contener el error.\n"
   ]
  }
 ],
 "metadata": {
  "kernelspec": {
   "display_name": "EE",
   "language": "python",
   "name": "python3"
  },
  "language_info": {
   "codemirror_mode": {
    "name": "ipython",
    "version": 3
   },
   "file_extension": ".py",
   "mimetype": "text/x-python",
   "name": "python",
   "nbconvert_exporter": "python",
   "pygments_lexer": "ipython3",
   "version": "3.13.5"
  }
 },
 "nbformat": 4,
 "nbformat_minor": 5
}
