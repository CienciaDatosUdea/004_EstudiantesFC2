{
 "cells": [
  {
   "cell_type": "code",
   "execution_count": 1,
   "id": "ea800b76",
   "metadata": {},
   "outputs": [
    {
     "data": {
      "application/vnd.jupyter.widget-view+json": {
       "model_id": "d1a8b056076a4fe2ad830c7ff7524cf2",
       "version_major": 2,
       "version_minor": 0
      },
      "text/plain": [
       "IntProgress(value=0, description='Cargando datos:', max=1000)"
      ]
     },
     "metadata": {},
     "output_type": "display_data"
    },
    {
     "data": {
      "application/vnd.jupyter.widget-view+json": {
       "model_id": "22ef8cc6af9f4566bf9bd924daa6075f",
       "version_major": 2,
       "version_minor": 0
      },
      "text/plain": [
       "VBox(children=(FloatSlider(value=0.0, description='Tiempo (t):', layout=Layout(width='80%')), Output()))"
      ]
     },
     "metadata": {},
     "output_type": "display_data"
    }
   ],
   "source": [
    "# Para que este código funcione, asegúrese de:\n",
    "# 1. Haber ejecutado 'make run' en la terminal para generar los datos.\n",
    "# 2. Tener el archivo 'visualizacion_funciones.py' en la misma carpeta.\n",
    "\n",
    "from visualizacion_funciones import VisualizadorAnimado\n",
    "\n",
    "# Parámetros de la simulación (deben coincidir con los de main.cpp)\n",
    "T_MAX = 100.00\n",
    "DT = 0.01\n",
    "\n",
    "# Instanciar la clase VisualizadorAnimado con la ruta de la carpeta de datos\n",
    "visualizador = VisualizadorAnimado(\"datos\", T_MAX, DT)\n",
    "\n",
    "# Cargar los datos desde los archivos\n",
    "if visualizador.cargar_datos():\n",
    "    # Mostrar el gráfico interactivo con ipywidgets\n",
    "    visualizador.display_interactive_plot()"
   ]
  },
  {
   "cell_type": "code",
   "execution_count": null,
   "id": "a96cd2e6",
   "metadata": {},
   "outputs": [],
   "source": []
  }
 ],
 "metadata": {
  "kernelspec": {
   "display_name": "EE",
   "language": "python",
   "name": "python3"
  },
  "language_info": {
   "codemirror_mode": {
    "name": "ipython",
    "version": 3
   },
   "file_extension": ".py",
   "mimetype": "text/x-python",
   "name": "python",
   "nbconvert_exporter": "python",
   "pygments_lexer": "ipython3",
   "version": "3.13.5"
  }
 },
 "nbformat": 4,
 "nbformat_minor": 5
}
